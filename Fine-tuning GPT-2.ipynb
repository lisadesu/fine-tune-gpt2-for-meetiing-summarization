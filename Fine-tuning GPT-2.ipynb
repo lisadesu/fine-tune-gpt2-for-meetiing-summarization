{
  "cells": [
    {
      "cell_type": "markdown",
      "metadata": {
        "cellId": "mlrpi9fkjwry6ypxi9e5ht",
        "id": "h98a-0lPvyZR"
      },
      "source": [
        "## Task description\n",
        "Abstractive + extractive meeting transcripts summarization\n",
        "\n",
        "## Base model\n",
        "\n",
        "GPT-2 (small)\n",
        "\n",
        "\n",
        "## Data\n",
        "AMI corpus\n",
        "\n",
        "## Metrics\n",
        "ROUGE (ROUGE-1, ROUGE-2, ROUGE-L)"
      ]
    },
    {
      "cell_type": "markdown",
      "metadata": {
        "cellId": "9m7pw1oft6h13fndph0t20p",
        "id": "WDZoj8We46U0"
      },
      "source": [
        "## Required imports"
      ]
    },
    {
      "cell_type": "code",
      "execution_count": 5,
      "metadata": {
        "cellId": "iajdnl9bpgcqov4q4b2ip",
        "id": "ATAMaBsA5IpR"
      },
      "outputs": [],
      "source": [
        "import re\n",
        "from transformers import GPT2LMHeadModel, GPT2Tokenizer\n",
        "from torch.utils.data import DataLoader\n",
        "import torch\n",
        "\n",
        "from torch.utils.data import Dataset\n",
        "import pandas as pd\n",
        "\n",
        "from torch.optim import Adam\n",
        "from tqdm.auto import tqdm"
      ]
    },
    {
      "cell_type": "code",
      "execution_count": 6,
      "metadata": {
        "cellId": "x63rao4gfpwwzjsuefalh",
        "id": "aIBFX1nW5wIg"
      },
      "outputs": [],
      "source": [
        "device = torch.device(\"cuda:0\")"
      ]
    },
    {
      "cell_type": "markdown",
      "metadata": {
        "cellId": "p98x7np4owc0xctwacp0u",
        "execution_id": "20cdcabc-217b-4531-bcf7-24010619b14b",
        "id": "gj9_f_YBxHxr"
      },
      "source": [
        "## GPT-2 multitask fine-tuning (autoregressive)"
      ]
    },
    {
      "cell_type": "markdown",
      "metadata": {
        "cellId": "4x8ltuuylduxv15ljzjq6",
        "execution_id": "e9d537bf-18c0-43b4-9f2b-031bb5ebed7f",
        "id": "cs36DEVayfBI"
      },
      "source": [
        "**Algorithm**: train GPT-2 in autoregressive style using special tokens to separate texts and summaries during training.\n",
        "\n",
        "\n",
        "In this notebook, the GPT-2 model was fine-tuned on AMI corpus samples that were less than 1024 tokens (for text + abstractive summary + extractive summary sequences)."
      ]
    },
    {
      "cell_type": "markdown",
      "metadata": {
        "cellId": "y9poz9r8qfk8hudeyffii",
        "execution_id": "57cf0213-8bc6-41e1-831c-b99644e9f0b0",
        "id": "eF_JJ98z5Y-P"
      },
      "source": [
        "### Load model&tokenizer, add special tokens"
      ]
    },
    {
      "cell_type": "code",
      "execution_count": 9,
      "metadata": {
        "cellId": "wcd7tt50oifi5bi6tk6x7",
        "colab": {
          "base_uri": "https://localhost:8080/"
        },
        "id": "qPd-wFvvvlFt",
        "outputId": "13599c19-32e8-4cf9-fbe0-9ab4cb31f7e7"
      },
      "outputs": [
        {
          "output_type": "execute_result",
          "data": {
            "text/plain": [
              "Embedding(50262, 768)"
            ]
          },
          "metadata": {},
          "execution_count": 9
        }
      ],
      "source": [
        "tokenizer = GPT2Tokenizer.from_pretrained(\"gpt2\")\n",
        "model = GPT2LMHeadModel.from_pretrained(\"gpt2\").to(device)\n",
        "\n",
        "tokenizer.add_special_tokens({\"pad_token\": \"<pad>\",\n",
        "                              \"bos_token\": \"<startofstring>\",\n",
        "                              \"eos_token\": \"<endofstring>\"\n",
        "                             })\n",
        "\n",
        "# separate token for summaries\n",
        "tokenizer.add_tokens([\"<abstractive>\"])\n",
        "tokenizer.add_tokens([\"<extractive>\"])\n",
        "#tokenizer.add_tokens([\"<summary:>\"])\n",
        "\n",
        "model.resize_token_embeddings(len(tokenizer))"
      ]
    },
    {
      "cell_type": "markdown",
      "metadata": {
        "cellId": "pwhm33uxipp3ss8i2okf44",
        "execution_id": "1a70eb6b-705c-47f8-9341-1797e2551e55",
        "id": "TFTVBoqe5t5h"
      },
      "source": [
        "### DataSet class"
      ]
    },
    {
      "cell_type": "code",
      "execution_count": 8,
      "metadata": {
        "cellId": "6h6piuo2fm5iv6hcl2hnhe",
        "id": "WosI_jl65quK"
      },
      "outputs": [],
      "source": [
        "class SummaryDataset(Dataset):\n",
        "    def __init__(self, path:str, tokenizer):\n",
        "        self.data = pd.read_csv(path)\n",
        "        self.texts = self.data['text'].values\n",
        "        self.abstractive = self.data['abstract'].values\n",
        "        self.extractive = self.data['extractive'].values\n",
        "\n",
        "        self.X = []\n",
        "\n",
        "        for text, extractive,  abstractive in zip(self.texts, self.extractive, self.abstractive):\n",
        "            # add special tokens to each sample\n",
        "            self.X.append(\"<startofstring> \" + text + \" <abstractive> \" + abstractive +  \" <extractive> \" + extractive + \" <endofstring>\")\n",
        "\n",
        "        print(self.X[0])\n",
        "\n",
        "        self.X_encoded = tokenizer(self.X, max_length=1024, truncation=True, padding=\"max_length\", return_tensors=\"pt\")\n",
        "        self.input_ids = self.X_encoded['input_ids']\n",
        "        self.attention_mask = self.X_encoded['attention_mask']\n",
        "\n",
        "    def __len__(self):\n",
        "        return len(self.X)\n",
        "\n",
        "    def __getitem__(self, idx):\n",
        "        return (self.input_ids[idx], self.attention_mask[idx])"
      ]
    },
    {
      "cell_type": "code",
      "execution_count": 12,
      "metadata": {
        "cellId": "gjbo6bi0zbbk7mihjwmd2k",
        "id": "b1dEAtNe7mfv",
        "colab": {
          "base_uri": "https://localhost:8080/"
        },
        "outputId": "c305d380-fb6e-4df7-936c-30f94bf33592"
      },
      "outputs": [
        {
          "output_type": "stream",
          "name": "stdout",
          "text": [
            "<startofstring> UI: Okay .\n",
            "ID: Or you get it .\n",
            "ID: Okay .\n",
            "UI: No I don't think so\n",
            "UI: it has to be like that\n",
            "UI: yeah\n",
            "UI: and you have to adjust the length .\n",
            "UI: Okay , and then .\n",
            "PM: So\n",
            "PM: we uh we will wait for Anna , a few minutes .\n",
            "UI: Yeah , s yeah , um .\n",
            "ID: \n",
            "ID: Mm .\n",
            "ID: Yours is well\n",
            "UI: I think you can put anywhere you want , actually .\n",
            "ID: Yeah\n",
            "ID: but the the mic should not\n",
            "UI: I thin\n",
            "UI: It's not a directional mic , anyway .\n",
            "ID: \n",
            "PM: I think it should work like this .\n",
            "PM: So I will try to get my presentation running .\n",
            "UI: Uh .\n",
            "ID: Yeah .\n",
            "UI: Yeah .\n",
            "PM: Mm .\n",
            "ID: Mm .\n",
            "ID: Can't help you with that .\n",
            "UI: Last .\n",
            "PM: It's no matter .\n",
            "ID: Okay ,\n",
            "ID: it's y\n",
            "ID: yeah .\n",
            "PM: No problem .\n",
            "PM: Ah\n",
            "PM: yes .\n",
            "ID: Right .\n",
            "UI: Okay .\n",
            "ID: Then press uh al\n",
            "UI: Okay .\n",
            "ID: This .\n",
            "ID: You know ?\n",
            "PM: I don't know .\n",
            "PM: Just try .\n",
            "UI: 'Kay .\n",
            "PM: On this normal\n",
            "ID: Oh oh .\n",
            "UI: Alt F five .\n",
            "PM: Good .\n",
            "PM: Doesn't appear on the screen here .\n",
            "ID: \n",
            "ID: Right well\n",
            "PM: Oh .\n",
            "ID: Wow . Amazing .\n",
            "ID: It's working .\n",
            "PM: Okay .\n",
            "PM: Thank you . Uh .\n",
            "ME: Hold that .\n",
            "PM: Yes\n",
            "PM: and you can put can clip it uh on your\n",
            "ME: Okay .\n",
            "PM: Somewhere .\n",
            "ME: Okay . Mm .\n",
            "PM: So ,\n",
            "PM: good morning , everyone .\n",
            "PM: Um\n",
            "ID: \n",
            "PM: Welcome at uh at the kick off meeting of our uh latest project .\n",
            "PM: I hope you all have been uh updated about it .\n",
            "ID: Yeah .\n",
            "PM: Good .\n",
            "UI: So . Yes . <abstractive> The meeting begins with the group trying to resolve some equipment issues and waiting for Anna's arrival. <extractive> we uh we will wait for Anna , a few minutes .\n",
            "I think you can put anywhere you want , actually .\n",
            "It's not a directional mic , anyway .\n",
            "So I will try to get my presentation running .\n",
            "Can't help you with that .\n",
            "Alt F five .\n",
            "Doesn't appear on the screen here .\n",
            "It's working . <endofstring>\n"
          ]
        }
      ],
      "source": [
        "dataset = SummaryDataset('ami_train_1024.csv', tokenizer)"
      ]
    },
    {
      "cell_type": "code",
      "execution_count": 13,
      "metadata": {
        "cellId": "wt2i7uqymkmjfujruixa69",
        "colab": {
          "base_uri": "https://localhost:8080/"
        },
        "id": "q_ba0lGK-C07",
        "outputId": "6b56bfb7-d1f5-4a2e-9925-4661ee8d7a08"
      },
      "outputs": [
        {
          "output_type": "execute_result",
          "data": {
            "text/plain": [
              "1024"
            ]
          },
          "metadata": {},
          "execution_count": 13
        }
      ],
      "source": [
        "len(dataset.__getitem__(0)[0])"
      ]
    },
    {
      "cell_type": "code",
      "execution_count": 14,
      "metadata": {
        "cellId": "08y1ybydoyxjhvtyqvcl8",
        "id": "v9_yna6u94lL"
      },
      "outputs": [],
      "source": [
        "dataloader = DataLoader(dataset, batch_size=8)"
      ]
    },
    {
      "cell_type": "markdown",
      "metadata": {
        "cellId": "mmaybq9n67oldcax04ueyn",
        "execution_id": "094fc55d-8a77-4875-b588-ca03e622cf32",
        "id": "s-V1loda-Tgm"
      },
      "source": [
        "### 1.3 Training Setup"
      ]
    },
    {
      "cell_type": "code",
      "execution_count": 15,
      "metadata": {
        "cellId": "rqxvrq36ln8gt2tyxl8wt",
        "id": "4thQByoE-WIK"
      },
      "outputs": [],
      "source": [
        "optim = Adam(model.parameters(), lr=1e-3)"
      ]
    },
    {
      "cell_type": "code",
      "execution_count": 17,
      "metadata": {
        "cellId": "gepdczg2f2qmjclcs2e5es",
        "id": "_sA1kujp-7A_"
      },
      "outputs": [],
      "source": [
        "def train(dataloader, model, optim):\n",
        "\n",
        "  epochs = 100\n",
        "  losses = []\n",
        "  rouges = []\n",
        "\n",
        "  for i in tqdm(range(epochs)):\n",
        "    print(f'Epoch: {i+1} started')\n",
        "    total_loss = 0\n",
        "    num_batches = 0\n",
        "\n",
        "    for X, a in tqdm(dataloader):\n",
        "      X = X.to(device)\n",
        "      a = a.to(device)\n",
        "      optim.zero_grad()\n",
        "      loss = model(X, attention_mask=a, labels=X).loss\n",
        "      loss.backward()\n",
        "      optim.step()\n",
        "\n",
        "      total_loss += loss.item()  # Accumulate the batch loss\n",
        "      num_batches += 1\n",
        "      losses.append(loss.item())\n",
        "\n",
        "    avg_loss = total_loss / num_batches  # Calculate average loss for the epoch\n",
        "    print(f'Epoch: {i+1}, Loss: {avg_loss:.4f}')\n",
        "    #torch.save(model.state_dict(), \"model_state.pt\")\n",
        "    if avg_loss <= 0.155:\n",
        "      model.save_pretrained('gpt2_abstractive_extractive_1024')\n",
        "      return losses\n"
      ]
    },
    {
      "cell_type": "markdown",
      "metadata": {
        "cellId": "04py2dm874m4x690q8i4v1l",
        "execution_id": "91b8dd99-ceb0-44c3-b256-dee348cf8e3d",
        "id": "1ZT-PERS_koi"
      },
      "source": [
        "Train model till reaching the loss less than 0.155"
      ]
    },
    {
      "cell_type": "code",
      "execution_count": null,
      "metadata": {
        "cellId": "jfd0colfkc8eobyoovy8pl",
        "id": "EFBsHlFB_MeF"
      },
      "outputs": [],
      "source": [
        "result = train(dataloader, model, optim)"
      ]
    },
    {
      "cell_type": "code",
      "execution_count": null,
      "metadata": {
        "cellId": "m8wc3ounuaio47kl7h96cs",
        "id": "schGs522wYMD",
        "outputId": "c6800bfd-b2f7-42d6-e359-cfa1db311d12"
      },
      "outputs": [
        {
          "data": {
            "image/png": "[encoded data removed]",
            "text/plain": [
              "<Figure size 1080x720 with 1 Axes>"
            ]
          },
          "metadata": {
            "needs_background": "light"
          },
          "output_type": "display_data"
        }
      ],
      "source": [
        "import matplotlib.pyplot as plt\n",
        "\n",
        "plt.figure(figsize=(15, 10))\n",
        "plt.plot(result2)\n",
        "plt.grid()\n",
        "plt.xlabel('Итерации')\n",
        "plt.ylabel('Значения функции потерь');"
      ]
    }
  ],
  "metadata": {
    "accelerator": "GPU",
    "colab": {
      "gpuType": "T4",
      "provenance": []
    },
    "language_info": {
      "name": "python"
    },
    "notebookId": "dd602419-fe31-464b-8fb1-eff50b045c53",
    "notebookPath": "fine_tuning_1024.ipynb",
    "kernelspec": {
      "name": "python3",
      "display_name": "Python 3"
    }
  },
  "nbformat": 4,
  "nbformat_minor": 0
}