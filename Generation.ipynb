{
  "cells": [
    {
      "cell_type": "code",
      "execution_count": null,
      "metadata": {
        "id": "cgk49V07ntsw"
      },
      "outputs": [],
      "source": [
        "! pip install transformers\n",
        "! pip install datasets\n",
        "! pip install rouge_score\n",
        "! pip install evaluate"
      ]
    },
    {
      "cell_type": "code",
      "execution_count": 3,
      "metadata": {
        "id": "8Q_PBMtDnu5H",
        "colab": {
          "base_uri": "https://localhost:8080/",
          "height": 49,
          "referenced_widgets": [
            "9e9be1a98eef4883aa49d2cc8b0d098c",
            "d959928c2f1440099f80c174291de7b1",
            "bc4233a359fe431f930a96e094a14778",
            "44abe6e97d4f4bc6979cbfa472662ee9",
            "2bf2f4db12374da08f9f26312d5ee4a3",
            "ce54666c603140b4913f0346240d9770",
            "327b2db2510643779351a5db9b385f59",
            "2c3b951e291f415dad45d4722d692411",
            "7fbf0673b808406b8dc6de4b89eafa9e",
            "591fa3bcf594438e83700ddf4f4d1ba2",
            "a55e2da262804fc5a80a066aa43b54f8"
          ]
        },
        "outputId": "d7c74173-9edf-4c2f-b41a-893d16725440"
      },
      "outputs": [
        {
          "output_type": "display_data",
          "data": {
            "text/plain": [
              "Downloading builder script:   0%|          | 0.00/6.27k [00:00<?, ?B/s]"
            ],
            "application/vnd.jupyter.widget-view+json": {
              "version_major": 2,
              "version_minor": 0,
              "model_id": "9e9be1a98eef4883aa49d2cc8b0d098c"
            }
          },
          "metadata": {}
        }
      ],
      "source": [
        "import re\n",
        "from transformers import GPT2LMHeadModel, GPT2Tokenizer\n",
        "from torch.utils.data import DataLoader\n",
        "import torch\n",
        "\n",
        "from torch.utils.data import Dataset\n",
        "import pandas as pd\n",
        "\n",
        "from torch.optim import Adam\n",
        "from tqdm.auto import tqdm\n",
        "\n",
        "import evaluate\n",
        "import rouge_score\n",
        "\n",
        "rouge_score = evaluate.load(\"rouge\")"
      ]
    },
    {
      "cell_type": "code",
      "execution_count": null,
      "metadata": {
        "id": "FVwhgRPdp9jy"
      },
      "outputs": [],
      "source": [
        "device = torch.device(\"cuda:0\")"
      ]
    },
    {
      "cell_type": "code",
      "execution_count": null,
      "metadata": {
        "colab": {
          "base_uri": "https://localhost:8080/",
          "height": 130,
          "referenced_widgets": [
            "4833d7712c9a44b9a7f73a33df9910df",
            "de5e2774b19940a098317067fdf2a2b5",
            "7b350751379d44d2ab6034cfca2fcc92",
            "bb3e75831cf143c4bb3925b4c3a3e2bb",
            "828b77f393cc460e88e824abd37895b7",
            "d271c326a77d415395fefafad2389715",
            "6b95e34958f248d297d0b3ae0fa87694",
            "c1ad5fedee7142d9b90b61616867b302",
            "3da9282225424fa698ec061e60adcc56",
            "0fa8ff40ca134c76ac3e4f0d71a124fb",
            "24a998a60edd432daee51a12ee0c3fe4",
            "032e4d5ebf0447a39d7adc0b04f256f3",
            "4aca703115424273910c4aa7e9b97a61",
            "d6d85e9b64d34883a510a00823b4ac1a",
            "bcce6beac0a1475f90e668816aaf4613",
            "610164a13de24268982e4d51f6cced5b",
            "cad8b9718ad24cb99a82f1670521d707",
            "72d4ed2ab6764e939a1876d8b7b3740f",
            "0be1e5b97f17493f95df13ad1d240d12",
            "01dc3de5262045da8a85e7e5db0de787",
            "f24d9974927443eab7e103cb8c731c95",
            "0ca2a5c047f64928badb2a51bac64d11",
            "9a1dbf6f399741b2a7f7f1efd02055bb",
            "32e3bde44afb487db4460d17a72ca479",
            "f42bf867aefe4a7d9a4944498f9fd2bf",
            "2d9ec4968c77414a916db295add16bbc",
            "fe17291c47c24dc4a7ffc8250529d4a9",
            "ce026c98199942749271d1f84707e547",
            "90ed74dd2235422e813f1e1e23883eeb",
            "78bb344fd32642749ab6d38b9a37616f",
            "6fcb40d12a3e47f89fc9915376b1ca21",
            "65829ffe076441ae93fbf92b22846dd8",
            "30a09b69fbcb4869b2f18f0479dc7fe9"
          ]
        },
        "id": "-ICu7Hrjn0V6",
        "outputId": "7988b5c3-fb01-42bd-c450-57a0bdeebd7d"
      },
      "outputs": [
        {
          "output_type": "display_data",
          "data": {
            "text/plain": [
              "Downloading (…)olve/main/vocab.json:   0%|          | 0.00/1.04M [00:00<?, ?B/s]"
            ],
            "application/vnd.jupyter.widget-view+json": {
              "version_major": 2,
              "version_minor": 0,
              "model_id": "4833d7712c9a44b9a7f73a33df9910df"
            }
          },
          "metadata": {}
        },
        {
          "output_type": "display_data",
          "data": {
            "text/plain": [
              "Downloading (…)olve/main/merges.txt:   0%|          | 0.00/456k [00:00<?, ?B/s]"
            ],
            "application/vnd.jupyter.widget-view+json": {
              "version_major": 2,
              "version_minor": 0,
              "model_id": "032e4d5ebf0447a39d7adc0b04f256f3"
            }
          },
          "metadata": {}
        },
        {
          "output_type": "display_data",
          "data": {
            "text/plain": [
              "Downloading (…)lve/main/config.json:   0%|          | 0.00/665 [00:00<?, ?B/s]"
            ],
            "application/vnd.jupyter.widget-view+json": {
              "version_major": 2,
              "version_minor": 0,
              "model_id": "9a1dbf6f399741b2a7f7f1efd02055bb"
            }
          },
          "metadata": {}
        },
        {
          "output_type": "execute_result",
          "data": {
            "text/plain": [
              "Embedding(50262, 768)"
            ]
          },
          "metadata": {},
          "execution_count": 5
        }
      ],
      "source": [
        "tokenizer = GPT2Tokenizer.from_pretrained(\"gpt2\")\n",
        "model = GPT2LMHeadModel.from_pretrained(\"gpt2_abstractive_extractive\").to(device)\n",
        "\n",
        "tokenizer.add_special_tokens({\"pad_token\": \"<pad>\",\n",
        "                              \"bos_token\": \"<startofstring>\",\n",
        "                              \"eos_token\": \"<endofstring>\"\n",
        "                             })\n",
        "# separate token for summary\n",
        "tokenizer.add_tokens([\"<abstractive>\"])\n",
        "tokenizer.add_tokens([\"<extractive>\"])\n",
        "\n",
        "model.resize_token_embeddings(len(tokenizer))"
      ]
    },
    {
      "cell_type": "markdown",
      "metadata": {
        "id": "nZ1bivQYog2N"
      },
      "source": [
        "# Rouge evaluation"
      ]
    },
    {
      "cell_type": "code",
      "source": [
        "import pandas as pd"
      ],
      "metadata": {
        "id": "WPk9YV4VyGR0"
      },
      "execution_count": null,
      "outputs": []
    },
    {
      "cell_type": "code",
      "execution_count": null,
      "metadata": {
        "id": "AB4d54FxokiO"
      },
      "outputs": [],
      "source": [
        "test = pd.read_csv('ami_test_1024.csv')\n",
        "test_texts = test['text'].values\n",
        "test_summaries_abstractive = test['abstract'].values # set golden column\n",
        "test_summaries_extractive = test['extractive'].values # set golden column\n"
      ]
    },
    {
      "cell_type": "code",
      "source": [
        "len(test_summaries_abstractive)"
      ],
      "metadata": {
        "colab": {
          "base_uri": "https://localhost:8080/"
        },
        "id": "4Ji1yRUeF2kY",
        "outputId": "cd403dee-8430-464e-c5a4-964f0021b197"
      },
      "execution_count": null,
      "outputs": [
        {
          "output_type": "execute_result",
          "data": {
            "text/plain": [
              "30"
            ]
          },
          "metadata": {},
          "execution_count": 7
        }
      ]
    },
    {
      "cell_type": "code",
      "execution_count": null,
      "metadata": {
        "id": "voYKWCC1opr_"
      },
      "outputs": [],
      "source": [
        "def evaluate_rouge(predictions, golden):\n",
        "  metrics = rouge_score.compute(predictions=predictions, references=golden)\n",
        "  rouge_names = [\"rouge1\", \"rouge2\", \"rougeL\", \"rougeLsum\"]\n",
        "  rouge_dict = dict((rn, round(metrics[rn] * 100, 2)) for rn in rouge_names)\n",
        "  return(rouge_dict)"
      ]
    },
    {
      "cell_type": "code",
      "execution_count": null,
      "metadata": {
        "id": "ENOtO5oqpJRj"
      },
      "outputs": [],
      "source": [
        "all_predictions_abstractive = {}\n",
        "all_predictions_extractive = {}\n"
      ]
    },
    {
      "cell_type": "code",
      "execution_count": null,
      "metadata": {
        "id": "lPGHdZ4IqTWm"
      },
      "outputs": [],
      "source": [
        "all_rouge_abstractive = {}\n",
        "all_rouge_extractive = {}\n"
      ]
    },
    {
      "cell_type": "code",
      "execution_count": null,
      "metadata": {
        "id": "yp2tE7daxulE"
      },
      "outputs": [],
      "source": [
        "def extract_strings(input_string):\n",
        "    start_tag1 = \"<abstractive>\"\n",
        "    end_tag1 = \"<extractive>\"\n",
        "    start_tag2 = \"<extractive>\"\n",
        "    end_tag2 = \" <\"\n",
        "\n",
        "    # Find the start and end positions of the tags\n",
        "    start_pos1 = input_string.find(start_tag1) + len(start_tag1)\n",
        "    end_pos1 = input_string.find(end_tag1)\n",
        "    start_pos2 = input_string.find(start_tag2, end_pos1) + len(start_tag2)\n",
        "    end_pos2 = input_string.find(end_tag2, start_pos2)\n",
        "\n",
        "    # Extract the strings between the tags\n",
        "    text1 = input_string[start_pos1:end_pos1].strip()\n",
        "    text2 = input_string[start_pos2:end_pos2].strip()\n",
        "\n",
        "    return [text1, text2]"
      ]
    },
    {
      "cell_type": "code",
      "source": [
        "def add_results(predictions, key):\n",
        "  abstractive = []\n",
        "  extractive = []\n",
        "\n",
        "  for p in predictions:\n",
        "    abstractive.append(p[0])\n",
        "    extractive.append(p[1])\n",
        "\n",
        "  rouge_a = evaluate_rouge(abstractive, test_summaries_abstractive)\n",
        "  rouge_e = evaluate_rouge(extractive, test_summaries_extractive)\n",
        "\n",
        "  all_predictions_abstractive[key] = abstractive\n",
        "  all_predictions_extractive[key] = extractive\n",
        "\n",
        "  all_rouge_abstractive[key] = rouge_a\n",
        "  all_rouge_extractive[key] = rouge_e\n",
        "\n",
        "  print(f'abstr: {rouge_a}')\n",
        "  print(f'extr: {rouge_e}')"
      ],
      "metadata": {
        "id": "OsHzhfqq56BL"
      },
      "execution_count": 4,
      "outputs": []
    },
    {
      "cell_type": "markdown",
      "source": [
        "# Generation methods"
      ],
      "metadata": {
        "id": "lV6n6Y7jZaaJ"
      }
    },
    {
      "cell_type": "markdown",
      "source": [
        "# Greedy"
      ],
      "metadata": {
        "id": "gS3aKiNaZekd"
      }
    },
    {
      "cell_type": "code",
      "source": [
        "def greedy_search(text, model, max_length, no_repeat_ngram_size=3):\n",
        "   text = \"<startofstring> \" + text + \" <abstractive> \"\n",
        "   text = tokenizer(text, return_tensors=\"pt\")\n",
        "   X = text[\"input_ids\"].to(device)\n",
        "   a = text[\"attention_mask\"].to(device)\n",
        "   # beam search generation\n",
        "   output = model.generate(X, attention_mask=a, max_length=1024, no_repeat_ngram_size=no_repeat_ngram_size, early_stopping=True)\n",
        "   output = tokenizer.decode(output[0])\n",
        "   output = extract_strings(output)\n",
        "   return output"
      ],
      "metadata": {
        "id": "Kql3P4Q-Zg5Q"
      },
      "execution_count": null,
      "outputs": []
    },
    {
      "cell_type": "markdown",
      "source": [
        "## Beam"
      ],
      "metadata": {
        "id": "ArPff3o6Zne2"
      }
    },
    {
      "cell_type": "code",
      "source": [
        "def beam_search(text, model, max_length, num_beams, no_repeat_ngram_size=3):\n",
        "   text = \"<startofstring> \" + text + \" <abstractive> \"\n",
        "   text = tokenizer(text, return_tensors=\"pt\")\n",
        "   X = text[\"input_ids\"].to(device)\n",
        "   a = text[\"attention_mask\"].to(device)\n",
        "   # beam search generation\n",
        "   output = model.generate(X, attention_mask=a, max_length=1024, num_beams = num_beams, no_repeat_ngram_size=no_repeat_ngram_size, early_stopping=True)\n",
        "   output = tokenizer.decode(output[0])\n",
        "   output = extract_strings(output)\n",
        "   return output"
      ],
      "metadata": {
        "id": "PWOXBXunZpEo"
      },
      "execution_count": null,
      "outputs": []
    },
    {
      "cell_type": "markdown",
      "source": [
        "## Top-k"
      ],
      "metadata": {
        "id": "MMTVKmILZvyz"
      }
    },
    {
      "cell_type": "code",
      "source": [
        "def top_k(text, model, max_length, top_k=0, temperature=None, no_repeat_ngram_size=3):\n",
        "   text = \"<startofstring> \" + text + \" <abstractive> \"\n",
        "   text = tokenizer(text, return_tensors=\"pt\")\n",
        "   X = text[\"input_ids\"].to(device)\n",
        "   a = text[\"attention_mask\"].to(device)\n",
        "   # beam search generation\n",
        "   output = model.generate(X, attention_mask=a, max_length=1024, do_sample=True, top_k=top_k, temperature=temperature, no_repeat_ngram_size=no_repeat_ngram_size, early_stopping=True)\n",
        "   output = tokenizer.decode(output[0])\n",
        "   output = extract_strings(output)\n",
        "   return output"
      ],
      "metadata": {
        "id": "c8eWNhNMZxXm"
      },
      "execution_count": null,
      "outputs": []
    },
    {
      "cell_type": "markdown",
      "source": [
        "## Contrasive"
      ],
      "metadata": {
        "id": "tgy-KUQ2aFhY"
      }
    },
    {
      "cell_type": "code",
      "source": [
        "def contrasive_search(text, model, penalty_alpha=0.6, top_k=2, no_repeat_ngram_size=3):\n",
        "   text = \"<startofstring> \" + text + \" <abstractive> \"\n",
        "   text = tokenizer(text, return_tensors=\"pt\")\n",
        "   X = text[\"input_ids\"].to(device)\n",
        "   a = text[\"attention_mask\"].to(device)\n",
        "   # beam search generation\n",
        "   output = model.generate(X, attention_mask=a, max_length=1024,  penalty_alpha=penalty_alpha, top_k=top_k, no_repeat_ngram_size=no_repeat_ngram_size, early_stopping=True)\n",
        "   output = tokenizer.decode(output[0])\n",
        "   output = extract_strings(output)\n",
        "   return output"
      ],
      "metadata": {
        "id": "LWOSSnQJaIVM"
      },
      "execution_count": null,
      "outputs": []
    },
    {
      "cell_type": "markdown",
      "source": [
        "## Getting predictions"
      ],
      "metadata": {
        "id": "SJWf2AbNaJHP"
      }
    },
    {
      "cell_type": "code",
      "source": [
        "test_summaries_abstractive = test['abstract'].values # set golden column\n",
        "test_summaries_extractive = test['extractive'].values # set golden column"
      ],
      "metadata": {
        "id": "ET8PvLphaLCS"
      },
      "execution_count": null,
      "outputs": []
    },
    {
      "cell_type": "code",
      "source": [
        "greedy_predictions = [greedy_search(t, model, 1024, 3) for t in tqdm(test_texts)]"
      ],
      "metadata": {
        "id": "JjFzGs0OaLHy"
      },
      "execution_count": null,
      "outputs": []
    },
    {
      "cell_type": "code",
      "source": [
        "add_results(greedy_predictions, 'greedy')"
      ],
      "metadata": {
        "colab": {
          "base_uri": "https://localhost:8080/"
        },
        "id": "uq7bGf7gpaep",
        "outputId": "186eba75-8c54-419d-be66-f821b81f6aea"
      },
      "execution_count": null,
      "outputs": [
        {
          "output_type": "stream",
          "name": "stdout",
          "text": [
            "abstr: {'rouge1': 28.38, 'rouge2': 11.95, 'rougeL': 25.13, 'rougeLsum': 25.38}\n",
            "extr: {'rouge1': 15.92, 'rouge2': 4.05, 'rougeL': 11.79, 'rougeLsum': 15.19}\n"
          ]
        }
      ]
    },
    {
      "cell_type": "code",
      "execution_count": null,
      "metadata": {
        "id": "CpVnFUp4yTQC"
      },
      "outputs": [],
      "source": [
        "beam_2_predictions = [beam_search(t, model, 1024, 2, 3) for t in tqdm(test_texts)]"
      ]
    },
    {
      "cell_type": "code",
      "source": [
        "add_results(beam_2_predictions, 'beam_2')"
      ],
      "metadata": {
        "colab": {
          "base_uri": "https://localhost:8080/"
        },
        "id": "wJc3FQQ7prmz",
        "outputId": "5b842dc1-31ae-4558-ab42-62aabd6df03e"
      },
      "execution_count": null,
      "outputs": [
        {
          "output_type": "stream",
          "name": "stdout",
          "text": [
            "abstr: {'rouge1': 29.5, 'rouge2': 10.55, 'rougeL': 25.54, 'rougeLsum': 25.52}\n",
            "extr: {'rouge1': 27.92, 'rouge2': 8.7, 'rougeL': 18.18, 'rougeLsum': 27.41}\n"
          ]
        }
      ]
    },
    {
      "cell_type": "code",
      "source": [
        "beam_3_predictions = [beam_search(t, model, 1024, 3, 3) for t in tqdm(test_texts)]"
      ],
      "metadata": {
        "id": "4PmgMHZ1bSYz"
      },
      "execution_count": null,
      "outputs": []
    },
    {
      "cell_type": "code",
      "source": [
        "add_results(beam_3_predictions, 'beam_3')"
      ],
      "metadata": {
        "id": "k7yCfelwpyvf"
      },
      "execution_count": null,
      "outputs": []
    },
    {
      "cell_type": "code",
      "source": [
        "beam_4_predictions = [beam_search(t, model, 1024, 4, 3) for t in tqdm(test_texts)]"
      ],
      "metadata": {
        "id": "p9Ne8UIrbVZW"
      },
      "execution_count": null,
      "outputs": []
    },
    {
      "cell_type": "code",
      "source": [
        "add_results(beam_4_predictions, 'beam_4')"
      ],
      "metadata": {
        "id": "ioV7HcZlp13i"
      },
      "execution_count": null,
      "outputs": []
    },
    {
      "cell_type": "code",
      "source": [
        "beam_5_predictions = [beam_search(t, model, 1024, 5, 3) for t in tqdm(test_texts)]"
      ],
      "metadata": {
        "id": "0gZMcUlwcr05"
      },
      "execution_count": null,
      "outputs": []
    },
    {
      "cell_type": "code",
      "source": [
        "add_results(beam_5_predictions, 'beam_5')"
      ],
      "metadata": {
        "colab": {
          "base_uri": "https://localhost:8080/"
        },
        "id": "f_JmOcqTp4gm",
        "outputId": "9cc55679-b507-4604-e49f-9becf8762841"
      },
      "execution_count": null,
      "outputs": [
        {
          "output_type": "stream",
          "name": "stdout",
          "text": [
            "abstr: {'rouge1': 30.17, 'rouge2': 12.05, 'rougeL': 24.64, 'rougeLsum': 24.71}\n",
            "extr: {'rouge1': 23.6, 'rouge2': 6.09, 'rougeL': 14.45, 'rougeLsum': 22.59}\n"
          ]
        }
      ]
    },
    {
      "cell_type": "code",
      "source": [
        "topk_2_07_predictions = [top_k(t, model, 1024, 2, 0.7, 3) for t in tqdm(test_texts)]"
      ],
      "metadata": {
        "id": "cLf3KJTDbXW1"
      },
      "execution_count": null,
      "outputs": []
    },
    {
      "cell_type": "code",
      "source": [
        "add_results(topk_2_07_predictions, 'topk_2_07')"
      ],
      "metadata": {
        "colab": {
          "base_uri": "https://localhost:8080/"
        },
        "id": "PJfg_sapvg8-",
        "outputId": "967be20a-7d03-4364-a965-a9273c6646fc"
      },
      "execution_count": null,
      "outputs": [
        {
          "output_type": "stream",
          "name": "stdout",
          "text": [
            "abstr: {'rouge1': 28.14, 'rouge2': 11.2, 'rougeL': 25.15, 'rougeLsum': 25.77}\n",
            "extr: {'rouge1': 29.45, 'rouge2': 12.47, 'rougeL': 21.5, 'rougeLsum': 28.05}\n"
          ]
        }
      ]
    },
    {
      "cell_type": "code",
      "source": [
        "topk_2_05_predictions = [top_k(t, model, 1024, 2, 0.5, 3) for t in tqdm(test_texts)]"
      ],
      "metadata": {
        "id": "8YflKnAMbc7A"
      },
      "execution_count": null,
      "outputs": []
    },
    {
      "cell_type": "code",
      "source": [
        "add_results(topk_2_05_predictions, 'topk_2_05')"
      ],
      "metadata": {
        "colab": {
          "base_uri": "https://localhost:8080/"
        },
        "id": "3rjyd1AFwARx",
        "outputId": "99829458-42e4-4df4-ed40-788f0b1b2011"
      },
      "execution_count": null,
      "outputs": [
        {
          "output_type": "stream",
          "name": "stdout",
          "text": [
            "abstr: {'rouge1': 30.72, 'rouge2': 11.79, 'rougeL': 27.93, 'rougeLsum': 27.78}\n",
            "extr: {'rouge1': 31.87, 'rouge2': 13.69, 'rougeL': 22.1, 'rougeLsum': 30.8}\n"
          ]
        }
      ]
    },
    {
      "cell_type": "code",
      "source": [
        "topk_2_02_predictions = [top_k(t, model, 1024, 2, 0.2, 3) for t in tqdm(test_texts)]"
      ],
      "metadata": {
        "id": "hjaAsxhHbdnW"
      },
      "execution_count": null,
      "outputs": []
    },
    {
      "cell_type": "code",
      "source": [
        "add_results(topk_2_02_predictions, 'topk_2_02')"
      ],
      "metadata": {
        "colab": {
          "base_uri": "https://localhost:8080/"
        },
        "id": "ArS5ScYXw0_X",
        "outputId": "1b6ab987-03ba-439d-80ff-0c56a6a72caf"
      },
      "execution_count": null,
      "outputs": [
        {
          "output_type": "stream",
          "name": "stdout",
          "text": [
            "abstr: {'rouge1': 27.38, 'rouge2': 9.37, 'rougeL': 23.42, 'rougeLsum': 23.64}\n",
            "extr: {'rouge1': 26.48, 'rouge2': 10.88, 'rougeL': 19.93, 'rougeLsum': 25.62}\n"
          ]
        }
      ]
    },
    {
      "cell_type": "code",
      "source": [
        "contrasive_06_02_predictions = [contrasive_search(t, model, 0.6, 2, 3) for t in tqdm(test_texts)]"
      ],
      "metadata": {
        "id": "gm9QSxRnbgg_"
      },
      "execution_count": null,
      "outputs": []
    },
    {
      "cell_type": "code",
      "source": [
        "add_results(contrasive_06_02_predictions, 'contr_06_02')"
      ],
      "metadata": {
        "colab": {
          "base_uri": "https://localhost:8080/"
        },
        "id": "V3XPN1zWqLR0",
        "outputId": "d36bb6a0-4dab-483f-cbc3-fdd6126cecd8"
      },
      "execution_count": null,
      "outputs": [
        {
          "output_type": "stream",
          "name": "stdout",
          "text": [
            "abstr: {'rouge1': 29.86, 'rouge2': 11.09, 'rougeL': 26.43, 'rougeLsum': 26.08}\n",
            "extr: {'rouge1': 27.94, 'rouge2': 10.79, 'rougeL': 20.06, 'rougeLsum': 26.76}\n"
          ]
        }
      ]
    },
    {
      "cell_type": "markdown",
      "source": [
        "## Save results to pickle files"
      ],
      "metadata": {
        "id": "EKfARIVO5v1e"
      }
    },
    {
      "cell_type": "markdown",
      "source": [
        "Saving abstractive"
      ],
      "metadata": {
        "id": "_1ptxqrT51Eu"
      }
    },
    {
      "cell_type": "code",
      "execution_count": null,
      "metadata": {
        "colab": {
          "base_uri": "https://localhost:8080/"
        },
        "id": "gxJM_IkyoYCu",
        "outputId": "67afc6bb-a4f0-4fb8-9994-d60bf9710fb7"
      },
      "outputs": [
        {
          "output_type": "stream",
          "name": "stdout",
          "text": [
            "True\n"
          ]
        }
      ],
      "source": [
        "import pickle\n",
        "\n",
        "\n",
        "with open('ae1024_preds_a.pickle', 'wb') as handle:\n",
        "    pickle.dump(all_predictions_abstractive, handle)\n",
        "\n",
        "with open('ae1024_preds_a.pickle', 'rb') as handle:\n",
        "    b = pickle.load(handle)\n"
      ]
    },
    {
      "cell_type": "code",
      "execution_count": null,
      "metadata": {
        "colab": {
          "base_uri": "https://localhost:8080/"
        },
        "id": "j1rb9OF1NlWT",
        "outputId": "4d158b69-9d38-4e35-8e41-05b1729127fe"
      },
      "outputs": [
        {
          "output_type": "stream",
          "name": "stdout",
          "text": [
            "True\n"
          ]
        }
      ],
      "source": [
        "with open('ae1024_rouge_a.pickle', 'wb') as handle:\n",
        "    pickle.dump(all_rouge_abstractive, handle)\n",
        "\n",
        "with open('ae1024_rouge_a.pickle', 'rb') as handle:\n",
        "    b = pickle.load(handle)\n",
        "\n",
        "print(all_rouge_abstractive == b)"
      ]
    },
    {
      "cell_type": "markdown",
      "source": [
        "Saving extractive"
      ],
      "metadata": {
        "id": "r1tQcf0pilap"
      }
    },
    {
      "cell_type": "code",
      "source": [
        "with open('ae1024_preds_e.pickle', 'wb') as handle:\n",
        "    pickle.dump(all_predictions_extractive, handle)\n",
        "\n",
        "with open('ae1024_preds_e.pickle', 'rb') as handle:\n",
        "    b = pickle.load(handle)\n",
        "\n",
        "print(all_predictions_extractive == b)"
      ],
      "metadata": {
        "colab": {
          "base_uri": "https://localhost:8080/"
        },
        "id": "fbx-S3bkinzF",
        "outputId": "a7353abe-5d67-4dae-d0f2-bae0ab7eb235"
      },
      "execution_count": null,
      "outputs": [
        {
          "output_type": "stream",
          "name": "stdout",
          "text": [
            "True\n"
          ]
        }
      ]
    },
    {
      "cell_type": "code",
      "source": [
        "with open('ae1024_rouge_e.pickle', 'wb') as handle:\n",
        "    pickle.dump(all_rouge_extractive, handle)\n",
        "\n",
        "with open('ae1024_rouge_e.pickle', 'rb') as handle:\n",
        "    b = pickle.load(handle)\n",
        "\n",
        "print(all_rouge_extractive == b)"
      ],
      "metadata": {
        "colab": {
          "base_uri": "https://localhost:8080/"
        },
        "id": "PtITSWTAiot2",
        "outputId": "55cf3c4b-1e79-429c-dfc0-b9991855cc77"
      },
      "execution_count": null,
      "outputs": [
        {
          "output_type": "stream",
          "name": "stdout",
          "text": [
            "True\n"
          ]
        }
      ]
    }
  ],
  "metadata": {
    "accelerator": "GPU",
    "colab": {
      "provenance": []
    },
    "kernelspec": {
      "display_name": "Python 3",
      "name": "python3"
    },
    "language_info": {
      "name": "python"
    },
    "widgets": {
      "application/vnd.jupyter.widget-state+json": {
        "4833d7712c9a44b9a7f73a33df9910df": {
          "model_module": "@jupyter-widgets/controls",
          "model_name": "HBoxModel",
          "model_module_version": "1.5.0",
          "state": {
            "_dom_classes": [],
            "_model_module": "@jupyter-widgets/controls",
            "_model_module_version": "1.5.0",
            "_model_name": "HBoxModel",
            "_view_count": null,
            "_view_module": "@jupyter-widgets/controls",
            "_view_module_version": "1.5.0",
            "_view_name": "HBoxView",
            "box_style": "",
            "children": [
              "IPY_MODEL_de5e2774b19940a098317067fdf2a2b5",
              "IPY_MODEL_7b350751379d44d2ab6034cfca2fcc92",
              "IPY_MODEL_bb3e75831cf143c4bb3925b4c3a3e2bb"
            ],
            "layout": "IPY_MODEL_828b77f393cc460e88e824abd37895b7"
          }
        },
        "de5e2774b19940a098317067fdf2a2b5": {
          "model_module": "@jupyter-widgets/controls",
          "model_name": "HTMLModel",
          "model_module_version": "1.5.0",
          "state": {
            "_dom_classes": [],
            "_model_module": "@jupyter-widgets/controls",
            "_model_module_version": "1.5.0",
            "_model_name": "HTMLModel",
            "_view_count": null,
            "_view_module": "@jupyter-widgets/controls",
            "_view_module_version": "1.5.0",
            "_view_name": "HTMLView",
            "description": "",
            "description_tooltip": null,
            "layout": "IPY_MODEL_d271c326a77d415395fefafad2389715",
            "placeholder": "​",
            "style": "IPY_MODEL_6b95e34958f248d297d0b3ae0fa87694",
            "value": "Downloading (…)olve/main/vocab.json: 100%"
          }
        },
        "7b350751379d44d2ab6034cfca2fcc92": {
          "model_module": "@jupyter-widgets/controls",
          "model_name": "FloatProgressModel",
          "model_module_version": "1.5.0",
          "state": {
            "_dom_classes": [],
            "_model_module": "@jupyter-widgets/controls",
            "_model_module_version": "1.5.0",
            "_model_name": "FloatProgressModel",
            "_view_count": null,
            "_view_module": "@jupyter-widgets/controls",
            "_view_module_version": "1.5.0",
            "_view_name": "ProgressView",
            "bar_style": "success",
            "description": "",
            "description_tooltip": null,
            "layout": "IPY_MODEL_c1ad5fedee7142d9b90b61616867b302",
            "max": 1042301,
            "min": 0,
            "orientation": "horizontal",
            "style": "IPY_MODEL_3da9282225424fa698ec061e60adcc56",
            "value": 1042301
          }
        },
        "bb3e75831cf143c4bb3925b4c3a3e2bb": {
          "model_module": "@jupyter-widgets/controls",
          "model_name": "HTMLModel",
          "model_module_version": "1.5.0",
          "state": {
            "_dom_classes": [],
            "_model_module": "@jupyter-widgets/controls",
            "_model_module_version": "1.5.0",
            "_model_name": "HTMLModel",
            "_view_count": null,
            "_view_module": "@jupyter-widgets/controls",
            "_view_module_version": "1.5.0",
            "_view_name": "HTMLView",
            "description": "",
            "description_tooltip": null,
            "layout": "IPY_MODEL_0fa8ff40ca134c76ac3e4f0d71a124fb",
            "placeholder": "​",
            "style": "IPY_MODEL_24a998a60edd432daee51a12ee0c3fe4",
            "value": " 1.04M/1.04M [00:00&lt;00:00, 13.0MB/s]"
          }
        },
        "828b77f393cc460e88e824abd37895b7": {
          "model_module": "@jupyter-widgets/base",
          "model_name": "LayoutModel",
          "model_module_version": "1.2.0",
          "state": {
            "_model_module": "@jupyter-widgets/base",
            "_model_module_version": "1.2.0",
            "_model_name": "LayoutModel",
            "_view_count": null,
            "_view_module": "@jupyter-widgets/base",
            "_view_module_version": "1.2.0",
            "_view_name": "LayoutView",
            "align_content": null,
            "align_items": null,
            "align_self": null,
            "border": null,
            "bottom": null,
            "display": null,
            "flex": null,
            "flex_flow": null,
            "grid_area": null,
            "grid_auto_columns": null,
            "grid_auto_flow": null,
            "grid_auto_rows": null,
            "grid_column": null,
            "grid_gap": null,
            "grid_row": null,
            "grid_template_areas": null,
            "grid_template_columns": null,
            "grid_template_rows": null,
            "height": null,
            "justify_content": null,
            "justify_items": null,
            "left": null,
            "margin": null,
            "max_height": null,
            "max_width": null,
            "min_height": null,
            "min_width": null,
            "object_fit": null,
            "object_position": null,
            "order": null,
            "overflow": null,
            "overflow_x": null,
            "overflow_y": null,
            "padding": null,
            "right": null,
            "top": null,
            "visibility": null,
            "width": null
          }
        },
        "d271c326a77d415395fefafad2389715": {
          "model_module": "@jupyter-widgets/base",
          "model_name": "LayoutModel",
          "model_module_version": "1.2.0",
          "state": {
            "_model_module": "@jupyter-widgets/base",
            "_model_module_version": "1.2.0",
            "_model_name": "LayoutModel",
            "_view_count": null,
            "_view_module": "@jupyter-widgets/base",
            "_view_module_version": "1.2.0",
            "_view_name": "LayoutView",
            "align_content": null,
            "align_items": null,
            "align_self": null,
            "border": null,
            "bottom": null,
            "display": null,
            "flex": null,
            "flex_flow": null,
            "grid_area": null,
            "grid_auto_columns": null,
            "grid_auto_flow": null,
            "grid_auto_rows": null,
            "grid_column": null,
            "grid_gap": null,
            "grid_row": null,
            "grid_template_areas": null,
            "grid_template_columns": null,
            "grid_template_rows": null,
            "height": null,
            "justify_content": null,
            "justify_items": null,
            "left": null,
            "margin": null,
            "max_height": null,
            "max_width": null,
            "min_height": null,
            "min_width": null,
            "object_fit": null,
            "object_position": null,
            "order": null,
            "overflow": null,
            "overflow_x": null,
            "overflow_y": null,
            "padding": null,
            "right": null,
            "top": null,
            "visibility": null,
            "width": null
          }
        },
        "6b95e34958f248d297d0b3ae0fa87694": {
          "model_module": "@jupyter-widgets/controls",
          "model_name": "DescriptionStyleModel",
          "model_module_version": "1.5.0",
          "state": {
            "_model_module": "@jupyter-widgets/controls",
            "_model_module_version": "1.5.0",
            "_model_name": "DescriptionStyleModel",
            "_view_count": null,
            "_view_module": "@jupyter-widgets/base",
            "_view_module_version": "1.2.0",
            "_view_name": "StyleView",
            "description_width": ""
          }
        },
        "c1ad5fedee7142d9b90b61616867b302": {
          "model_module": "@jupyter-widgets/base",
          "model_name": "LayoutModel",
          "model_module_version": "1.2.0",
          "state": {
            "_model_module": "@jupyter-widgets/base",
            "_model_module_version": "1.2.0",
            "_model_name": "LayoutModel",
            "_view_count": null,
            "_view_module": "@jupyter-widgets/base",
            "_view_module_version": "1.2.0",
            "_view_name": "LayoutView",
            "align_content": null,
            "align_items": null,
            "align_self": null,
            "border": null,
            "bottom": null,
            "display": null,
            "flex": null,
            "flex_flow": null,
            "grid_area": null,
            "grid_auto_columns": null,
            "grid_auto_flow": null,
            "grid_auto_rows": null,
            "grid_column": null,
            "grid_gap": null,
            "grid_row": null,
            "grid_template_areas": null,
            "grid_template_columns": null,
            "grid_template_rows": null,
            "height": null,
            "justify_content": null,
            "justify_items": null,
            "left": null,
            "margin": null,
            "max_height": null,
            "max_width": null,
            "min_height": null,
            "min_width": null,
            "object_fit": null,
            "object_position": null,
            "order": null,
            "overflow": null,
            "overflow_x": null,
            "overflow_y": null,
            "padding": null,
            "right": null,
            "top": null,
            "visibility": null,
            "width": null
          }
        },
        "3da9282225424fa698ec061e60adcc56": {
          "model_module": "@jupyter-widgets/controls",
          "model_name": "ProgressStyleModel",
          "model_module_version": "1.5.0",
          "state": {
            "_model_module": "@jupyter-widgets/controls",
            "_model_module_version": "1.5.0",
            "_model_name": "ProgressStyleModel",
            "_view_count": null,
            "_view_module": "@jupyter-widgets/base",
            "_view_module_version": "1.2.0",
            "_view_name": "StyleView",
            "bar_color": null,
            "description_width": ""
          }
        },
        "0fa8ff40ca134c76ac3e4f0d71a124fb": {
          "model_module": "@jupyter-widgets/base",
          "model_name": "LayoutModel",
          "model_module_version": "1.2.0",
          "state": {
            "_model_module": "@jupyter-widgets/base",
            "_model_module_version": "1.2.0",
            "_model_name": "LayoutModel",
            "_view_count": null,
            "_view_module": "@jupyter-widgets/base",
            "_view_module_version": "1.2.0",
            "_view_name": "LayoutView",
            "align_content": null,
            "align_items": null,
            "align_self": null,
            "border": null,
            "bottom": null,
            "display": null,
            "flex": null,
            "flex_flow": null,
            "grid_area": null,
            "grid_auto_columns": null,
            "grid_auto_flow": null,
            "grid_auto_rows": null,
            "grid_column": null,
            "grid_gap": null,
            "grid_row": null,
            "grid_template_areas": null,
            "grid_template_columns": null,
            "grid_template_rows": null,
            "height": null,
            "justify_content": null,
            "justify_items": null,
            "left": null,
            "margin": null,
            "max_height": null,
            "max_width": null,
            "min_height": null,
            "min_width": null,
            "object_fit": null,
            "object_position": null,
            "order": null,
            "overflow": null,
            "overflow_x": null,
            "overflow_y": null,
            "padding": null,
            "right": null,
            "top": null,
            "visibility": null,
            "width": null
          }
        },
        "24a998a60edd432daee51a12ee0c3fe4": {
          "model_module": "@jupyter-widgets/controls",
          "model_name": "DescriptionStyleModel",
          "model_module_version": "1.5.0",
          "state": {
            "_model_module": "@jupyter-widgets/controls",
            "_model_module_version": "1.5.0",
            "_model_name": "DescriptionStyleModel",
            "_view_count": null,
            "_view_module": "@jupyter-widgets/base",
            "_view_module_version": "1.2.0",
            "_view_name": "StyleView",
            "description_width": ""
          }
        },
        "032e4d5ebf0447a39d7adc0b04f256f3": {
          "model_module": "@jupyter-widgets/controls",
          "model_name": "HBoxModel",
          "model_module_version": "1.5.0",
          "state": {
            "_dom_classes": [],
            "_model_module": "@jupyter-widgets/controls",
            "_model_module_version": "1.5.0",
            "_model_name": "HBoxModel",
            "_view_count": null,
            "_view_module": "@jupyter-widgets/controls",
            "_view_module_version": "1.5.0",
            "_view_name": "HBoxView",
            "box_style": "",
            "children": [
              "IPY_MODEL_4aca703115424273910c4aa7e9b97a61",
              "IPY_MODEL_d6d85e9b64d34883a510a00823b4ac1a",
              "IPY_MODEL_bcce6beac0a1475f90e668816aaf4613"
            ],
            "layout": "IPY_MODEL_610164a13de24268982e4d51f6cced5b"
          }
        },
        "4aca703115424273910c4aa7e9b97a61": {
          "model_module": "@jupyter-widgets/controls",
          "model_name": "HTMLModel",
          "model_module_version": "1.5.0",
          "state": {
            "_dom_classes": [],
            "_model_module": "@jupyter-widgets/controls",
            "_model_module_version": "1.5.0",
            "_model_name": "HTMLModel",
            "_view_count": null,
            "_view_module": "@jupyter-widgets/controls",
            "_view_module_version": "1.5.0",
            "_view_name": "HTMLView",
            "description": "",
            "description_tooltip": null,
            "layout": "IPY_MODEL_cad8b9718ad24cb99a82f1670521d707",
            "placeholder": "​",
            "style": "IPY_MODEL_72d4ed2ab6764e939a1876d8b7b3740f",
            "value": "Downloading (…)olve/main/merges.txt: 100%"
          }
        },
        "d6d85e9b64d34883a510a00823b4ac1a": {
          "model_module": "@jupyter-widgets/controls",
          "model_name": "FloatProgressModel",
          "model_module_version": "1.5.0",
          "state": {
            "_dom_classes": [],
            "_model_module": "@jupyter-widgets/controls",
            "_model_module_version": "1.5.0",
            "_model_name": "FloatProgressModel",
            "_view_count": null,
            "_view_module": "@jupyter-widgets/controls",
            "_view_module_version": "1.5.0",
            "_view_name": "ProgressView",
            "bar_style": "success",
            "description": "",
            "description_tooltip": null,
            "layout": "IPY_MODEL_0be1e5b97f17493f95df13ad1d240d12",
            "max": 456318,
            "min": 0,
            "orientation": "horizontal",
            "style": "IPY_MODEL_01dc3de5262045da8a85e7e5db0de787",
            "value": 456318
          }
        },
        "bcce6beac0a1475f90e668816aaf4613": {
          "model_module": "@jupyter-widgets/controls",
          "model_name": "HTMLModel",
          "model_module_version": "1.5.0",
          "state": {
            "_dom_classes": [],
            "_model_module": "@jupyter-widgets/controls",
            "_model_module_version": "1.5.0",
            "_model_name": "HTMLModel",
            "_view_count": null,
            "_view_module": "@jupyter-widgets/controls",
            "_view_module_version": "1.5.0",
            "_view_name": "HTMLView",
            "description": "",
            "description_tooltip": null,
            "layout": "IPY_MODEL_f24d9974927443eab7e103cb8c731c95",
            "placeholder": "​",
            "style": "IPY_MODEL_0ca2a5c047f64928badb2a51bac64d11",
            "value": " 456k/456k [00:00&lt;00:00, 11.1MB/s]"
          }
        },
        "610164a13de24268982e4d51f6cced5b": {
          "model_module": "@jupyter-widgets/base",
          "model_name": "LayoutModel",
          "model_module_version": "1.2.0",
          "state": {
            "_model_module": "@jupyter-widgets/base",
            "_model_module_version": "1.2.0",
            "_model_name": "LayoutModel",
            "_view_count": null,
            "_view_module": "@jupyter-widgets/base",
            "_view_module_version": "1.2.0",
            "_view_name": "LayoutView",
            "align_content": null,
            "align_items": null,
            "align_self": null,
            "border": null,
            "bottom": null,
            "display": null,
            "flex": null,
            "flex_flow": null,
            "grid_area": null,
            "grid_auto_columns": null,
            "grid_auto_flow": null,
            "grid_auto_rows": null,
            "grid_column": null,
            "grid_gap": null,
            "grid_row": null,
            "grid_template_areas": null,
            "grid_template_columns": null,
            "grid_template_rows": null,
            "height": null,
            "justify_content": null,
            "justify_items": null,
            "left": null,
            "margin": null,
            "max_height": null,
            "max_width": null,
            "min_height": null,
            "min_width": null,
            "object_fit": null,
            "object_position": null,
            "order": null,
            "overflow": null,
            "overflow_x": null,
            "overflow_y": null,
            "padding": null,
            "right": null,
            "top": null,
            "visibility": null,
            "width": null
          }
        },
        "cad8b9718ad24cb99a82f1670521d707": {
          "model_module": "@jupyter-widgets/base",
          "model_name": "LayoutModel",
          "model_module_version": "1.2.0",
          "state": {
            "_model_module": "@jupyter-widgets/base",
            "_model_module_version": "1.2.0",
            "_model_name": "LayoutModel",
            "_view_count": null,
            "_view_module": "@jupyter-widgets/base",
            "_view_module_version": "1.2.0",
            "_view_name": "LayoutView",
            "align_content": null,
            "align_items": null,
            "align_self": null,
            "border": null,
            "bottom": null,
            "display": null,
            "flex": null,
            "flex_flow": null,
            "grid_area": null,
            "grid_auto_columns": null,
            "grid_auto_flow": null,
            "grid_auto_rows": null,
            "grid_column": null,
            "grid_gap": null,
            "grid_row": null,
            "grid_template_areas": null,
            "grid_template_columns": null,
            "grid_template_rows": null,
            "height": null,
            "justify_content": null,
            "justify_items": null,
            "left": null,
            "margin": null,
            "max_height": null,
            "max_width": null,
            "min_height": null,
            "min_width": null,
            "object_fit": null,
            "object_position": null,
            "order": null,
            "overflow": null,
            "overflow_x": null,
            "overflow_y": null,
            "padding": null,
            "right": null,
            "top": null,
            "visibility": null,
            "width": null
          }
        },
        "72d4ed2ab6764e939a1876d8b7b3740f": {
          "model_module": "@jupyter-widgets/controls",
          "model_name": "DescriptionStyleModel",
          "model_module_version": "1.5.0",
          "state": {
            "_model_module": "@jupyter-widgets/controls",
            "_model_module_version": "1.5.0",
            "_model_name": "DescriptionStyleModel",
            "_view_count": null,
            "_view_module": "@jupyter-widgets/base",
            "_view_module_version": "1.2.0",
            "_view_name": "StyleView",
            "description_width": ""
          }
        },
        "0be1e5b97f17493f95df13ad1d240d12": {
          "model_module": "@jupyter-widgets/base",
          "model_name": "LayoutModel",
          "model_module_version": "1.2.0",
          "state": {
            "_model_module": "@jupyter-widgets/base",
            "_model_module_version": "1.2.0",
            "_model_name": "LayoutModel",
            "_view_count": null,
            "_view_module": "@jupyter-widgets/base",
            "_view_module_version": "1.2.0",
            "_view_name": "LayoutView",
            "align_content": null,
            "align_items": null,
            "align_self": null,
            "border": null,
            "bottom": null,
            "display": null,
            "flex": null,
            "flex_flow": null,
            "grid_area": null,
            "grid_auto_columns": null,
            "grid_auto_flow": null,
            "grid_auto_rows": null,
            "grid_column": null,
            "grid_gap": null,
            "grid_row": null,
            "grid_template_areas": null,
            "grid_template_columns": null,
            "grid_template_rows": null,
            "height": null,
            "justify_content": null,
            "justify_items": null,
            "left": null,
            "margin": null,
            "max_height": null,
            "max_width": null,
            "min_height": null,
            "min_width": null,
            "object_fit": null,
            "object_position": null,
            "order": null,
            "overflow": null,
            "overflow_x": null,
            "overflow_y": null,
            "padding": null,
            "right": null,
            "top": null,
            "visibility": null,
            "width": null
          }
        },
        "01dc3de5262045da8a85e7e5db0de787": {
          "model_module": "@jupyter-widgets/controls",
          "model_name": "ProgressStyleModel",
          "model_module_version": "1.5.0",
          "state": {
            "_model_module": "@jupyter-widgets/controls",
            "_model_module_version": "1.5.0",
            "_model_name": "ProgressStyleModel",
            "_view_count": null,
            "_view_module": "@jupyter-widgets/base",
            "_view_module_version": "1.2.0",
            "_view_name": "StyleView",
            "bar_color": null,
            "description_width": ""
          }
        },
        "f24d9974927443eab7e103cb8c731c95": {
          "model_module": "@jupyter-widgets/base",
          "model_name": "LayoutModel",
          "model_module_version": "1.2.0",
          "state": {
            "_model_module": "@jupyter-widgets/base",
            "_model_module_version": "1.2.0",
            "_model_name": "LayoutModel",
            "_view_count": null,
            "_view_module": "@jupyter-widgets/base",
            "_view_module_version": "1.2.0",
            "_view_name": "LayoutView",
            "align_content": null,
            "align_items": null,
            "align_self": null,
            "border": null,
            "bottom": null,
            "display": null,
            "flex": null,
            "flex_flow": null,
            "grid_area": null,
            "grid_auto_columns": null,
            "grid_auto_flow": null,
            "grid_auto_rows": null,
            "grid_column": null,
            "grid_gap": null,
            "grid_row": null,
            "grid_template_areas": null,
            "grid_template_columns": null,
            "grid_template_rows": null,
            "height": null,
            "justify_content": null,
            "justify_items": null,
            "left": null,
            "margin": null,
            "max_height": null,
            "max_width": null,
            "min_height": null,
            "min_width": null,
            "object_fit": null,
            "object_position": null,
            "order": null,
            "overflow": null,
            "overflow_x": null,
            "overflow_y": null,
            "padding": null,
            "right": null,
            "top": null,
            "visibility": null,
            "width": null
          }
        },
        "0ca2a5c047f64928badb2a51bac64d11": {
          "model_module": "@jupyter-widgets/controls",
          "model_name": "DescriptionStyleModel",
          "model_module_version": "1.5.0",
          "state": {
            "_model_module": "@jupyter-widgets/controls",
            "_model_module_version": "1.5.0",
            "_model_name": "DescriptionStyleModel",
            "_view_count": null,
            "_view_module": "@jupyter-widgets/base",
            "_view_module_version": "1.2.0",
            "_view_name": "StyleView",
            "description_width": ""
          }
        },
        "9a1dbf6f399741b2a7f7f1efd02055bb": {
          "model_module": "@jupyter-widgets/controls",
          "model_name": "HBoxModel",
          "model_module_version": "1.5.0",
          "state": {
            "_dom_classes": [],
            "_model_module": "@jupyter-widgets/controls",
            "_model_module_version": "1.5.0",
            "_model_name": "HBoxModel",
            "_view_count": null,
            "_view_module": "@jupyter-widgets/controls",
            "_view_module_version": "1.5.0",
            "_view_name": "HBoxView",
            "box_style": "",
            "children": [
              "IPY_MODEL_32e3bde44afb487db4460d17a72ca479",
              "IPY_MODEL_f42bf867aefe4a7d9a4944498f9fd2bf",
              "IPY_MODEL_2d9ec4968c77414a916db295add16bbc"
            ],
            "layout": "IPY_MODEL_fe17291c47c24dc4a7ffc8250529d4a9"
          }
        },
        "32e3bde44afb487db4460d17a72ca479": {
          "model_module": "@jupyter-widgets/controls",
          "model_name": "HTMLModel",
          "model_module_version": "1.5.0",
          "state": {
            "_dom_classes": [],
            "_model_module": "@jupyter-widgets/controls",
            "_model_module_version": "1.5.0",
            "_model_name": "HTMLModel",
            "_view_count": null,
            "_view_module": "@jupyter-widgets/controls",
            "_view_module_version": "1.5.0",
            "_view_name": "HTMLView",
            "description": "",
            "description_tooltip": null,
            "layout": "IPY_MODEL_ce026c98199942749271d1f84707e547",
            "placeholder": "​",
            "style": "IPY_MODEL_90ed74dd2235422e813f1e1e23883eeb",
            "value": "Downloading (…)lve/main/config.json: 100%"
          }
        },
        "f42bf867aefe4a7d9a4944498f9fd2bf": {
          "model_module": "@jupyter-widgets/controls",
          "model_name": "FloatProgressModel",
          "model_module_version": "1.5.0",
          "state": {
            "_dom_classes": [],
            "_model_module": "@jupyter-widgets/controls",
            "_model_module_version": "1.5.0",
            "_model_name": "FloatProgressModel",
            "_view_count": null,
            "_view_module": "@jupyter-widgets/controls",
            "_view_module_version": "1.5.0",
            "_view_name": "ProgressView",
            "bar_style": "success",
            "description": "",
            "description_tooltip": null,
            "layout": "IPY_MODEL_78bb344fd32642749ab6d38b9a37616f",
            "max": 665,
            "min": 0,
            "orientation": "horizontal",
            "style": "IPY_MODEL_6fcb40d12a3e47f89fc9915376b1ca21",
            "value": 665
          }
        },
        "2d9ec4968c77414a916db295add16bbc": {
          "model_module": "@jupyter-widgets/controls",
          "model_name": "HTMLModel",
          "model_module_version": "1.5.0",
          "state": {
            "_dom_classes": [],
            "_model_module": "@jupyter-widgets/controls",
            "_model_module_version": "1.5.0",
            "_model_name": "HTMLModel",
            "_view_count": null,
            "_view_module": "@jupyter-widgets/controls",
            "_view_module_version": "1.5.0",
            "_view_name": "HTMLView",
            "description": "",
            "description_tooltip": null,
            "layout": "IPY_MODEL_65829ffe076441ae93fbf92b22846dd8",
            "placeholder": "​",
            "style": "IPY_MODEL_30a09b69fbcb4869b2f18f0479dc7fe9",
            "value": " 665/665 [00:00&lt;00:00, 18.7kB/s]"
          }
        },
        "fe17291c47c24dc4a7ffc8250529d4a9": {
          "model_module": "@jupyter-widgets/base",
          "model_name": "LayoutModel",
          "model_module_version": "1.2.0",
          "state": {
            "_model_module": "@jupyter-widgets/base",
            "_model_module_version": "1.2.0",
            "_model_name": "LayoutModel",
            "_view_count": null,
            "_view_module": "@jupyter-widgets/base",
            "_view_module_version": "1.2.0",
            "_view_name": "LayoutView",
            "align_content": null,
            "align_items": null,
            "align_self": null,
            "border": null,
            "bottom": null,
            "display": null,
            "flex": null,
            "flex_flow": null,
            "grid_area": null,
            "grid_auto_columns": null,
            "grid_auto_flow": null,
            "grid_auto_rows": null,
            "grid_column": null,
            "grid_gap": null,
            "grid_row": null,
            "grid_template_areas": null,
            "grid_template_columns": null,
            "grid_template_rows": null,
            "height": null,
            "justify_content": null,
            "justify_items": null,
            "left": null,
            "margin": null,
            "max_height": null,
            "max_width": null,
            "min_height": null,
            "min_width": null,
            "object_fit": null,
            "object_position": null,
            "order": null,
            "overflow": null,
            "overflow_x": null,
            "overflow_y": null,
            "padding": null,
            "right": null,
            "top": null,
            "visibility": null,
            "width": null
          }
        },
        "ce026c98199942749271d1f84707e547": {
          "model_module": "@jupyter-widgets/base",
          "model_name": "LayoutModel",
          "model_module_version": "1.2.0",
          "state": {
            "_model_module": "@jupyter-widgets/base",
            "_model_module_version": "1.2.0",
            "_model_name": "LayoutModel",
            "_view_count": null,
            "_view_module": "@jupyter-widgets/base",
            "_view_module_version": "1.2.0",
            "_view_name": "LayoutView",
            "align_content": null,
            "align_items": null,
            "align_self": null,
            "border": null,
            "bottom": null,
            "display": null,
            "flex": null,
            "flex_flow": null,
            "grid_area": null,
            "grid_auto_columns": null,
            "grid_auto_flow": null,
            "grid_auto_rows": null,
            "grid_column": null,
            "grid_gap": null,
            "grid_row": null,
            "grid_template_areas": null,
            "grid_template_columns": null,
            "grid_template_rows": null,
            "height": null,
            "justify_content": null,
            "justify_items": null,
            "left": null,
            "margin": null,
            "max_height": null,
            "max_width": null,
            "min_height": null,
            "min_width": null,
            "object_fit": null,
            "object_position": null,
            "order": null,
            "overflow": null,
            "overflow_x": null,
            "overflow_y": null,
            "padding": null,
            "right": null,
            "top": null,
            "visibility": null,
            "width": null
          }
        },
        "90ed74dd2235422e813f1e1e23883eeb": {
          "model_module": "@jupyter-widgets/controls",
          "model_name": "DescriptionStyleModel",
          "model_module_version": "1.5.0",
          "state": {
            "_model_module": "@jupyter-widgets/controls",
            "_model_module_version": "1.5.0",
            "_model_name": "DescriptionStyleModel",
            "_view_count": null,
            "_view_module": "@jupyter-widgets/base",
            "_view_module_version": "1.2.0",
            "_view_name": "StyleView",
            "description_width": ""
          }
        },
        "78bb344fd32642749ab6d38b9a37616f": {
          "model_module": "@jupyter-widgets/base",
          "model_name": "LayoutModel",
          "model_module_version": "1.2.0",
          "state": {
            "_model_module": "@jupyter-widgets/base",
            "_model_module_version": "1.2.0",
            "_model_name": "LayoutModel",
            "_view_count": null,
            "_view_module": "@jupyter-widgets/base",
            "_view_module_version": "1.2.0",
            "_view_name": "LayoutView",
            "align_content": null,
            "align_items": null,
            "align_self": null,
            "border": null,
            "bottom": null,
            "display": null,
            "flex": null,
            "flex_flow": null,
            "grid_area": null,
            "grid_auto_columns": null,
            "grid_auto_flow": null,
            "grid_auto_rows": null,
            "grid_column": null,
            "grid_gap": null,
            "grid_row": null,
            "grid_template_areas": null,
            "grid_template_columns": null,
            "grid_template_rows": null,
            "height": null,
            "justify_content": null,
            "justify_items": null,
            "left": null,
            "margin": null,
            "max_height": null,
            "max_width": null,
            "min_height": null,
            "min_width": null,
            "object_fit": null,
            "object_position": null,
            "order": null,
            "overflow": null,
            "overflow_x": null,
            "overflow_y": null,
            "padding": null,
            "right": null,
            "top": null,
            "visibility": null,
            "width": null
          }
        },
        "6fcb40d12a3e47f89fc9915376b1ca21": {
          "model_module": "@jupyter-widgets/controls",
          "model_name": "ProgressStyleModel",
          "model_module_version": "1.5.0",
          "state": {
            "_model_module": "@jupyter-widgets/controls",
            "_model_module_version": "1.5.0",
            "_model_name": "ProgressStyleModel",
            "_view_count": null,
            "_view_module": "@jupyter-widgets/base",
            "_view_module_version": "1.2.0",
            "_view_name": "StyleView",
            "bar_color": null,
            "description_width": ""
          }
        },
        "65829ffe076441ae93fbf92b22846dd8": {
          "model_module": "@jupyter-widgets/base",
          "model_name": "LayoutModel",
          "model_module_version": "1.2.0",
          "state": {
            "_model_module": "@jupyter-widgets/base",
            "_model_module_version": "1.2.0",
            "_model_name": "LayoutModel",
            "_view_count": null,
            "_view_module": "@jupyter-widgets/base",
            "_view_module_version": "1.2.0",
            "_view_name": "LayoutView",
            "align_content": null,
            "align_items": null,
            "align_self": null,
            "border": null,
            "bottom": null,
            "display": null,
            "flex": null,
            "flex_flow": null,
            "grid_area": null,
            "grid_auto_columns": null,
            "grid_auto_flow": null,
            "grid_auto_rows": null,
            "grid_column": null,
            "grid_gap": null,
            "grid_row": null,
            "grid_template_areas": null,
            "grid_template_columns": null,
            "grid_template_rows": null,
            "height": null,
            "justify_content": null,
            "justify_items": null,
            "left": null,
            "margin": null,
            "max_height": null,
            "max_width": null,
            "min_height": null,
            "min_width": null,
            "object_fit": null,
            "object_position": null,
            "order": null,
            "overflow": null,
            "overflow_x": null,
            "overflow_y": null,
            "padding": null,
            "right": null,
            "top": null,
            "visibility": null,
            "width": null
          }
        },
        "30a09b69fbcb4869b2f18f0479dc7fe9": {
          "model_module": "@jupyter-widgets/controls",
          "model_name": "DescriptionStyleModel",
          "model_module_version": "1.5.0",
          "state": {
            "_model_module": "@jupyter-widgets/controls",
            "_model_module_version": "1.5.0",
            "_model_name": "DescriptionStyleModel",
            "_view_count": null,
            "_view_module": "@jupyter-widgets/base",
            "_view_module_version": "1.2.0",
            "_view_name": "StyleView",
            "description_width": ""
          }
        },
        "9e9be1a98eef4883aa49d2cc8b0d098c": {
          "model_module": "@jupyter-widgets/controls",
          "model_name": "HBoxModel",
          "model_module_version": "1.5.0",
          "state": {
            "_dom_classes": [],
            "_model_module": "@jupyter-widgets/controls",
            "_model_module_version": "1.5.0",
            "_model_name": "HBoxModel",
            "_view_count": null,
            "_view_module": "@jupyter-widgets/controls",
            "_view_module_version": "1.5.0",
            "_view_name": "HBoxView",
            "box_style": "",
            "children": [
              "IPY_MODEL_d959928c2f1440099f80c174291de7b1",
              "IPY_MODEL_bc4233a359fe431f930a96e094a14778",
              "IPY_MODEL_44abe6e97d4f4bc6979cbfa472662ee9"
            ],
            "layout": "IPY_MODEL_2bf2f4db12374da08f9f26312d5ee4a3"
          }
        },
        "d959928c2f1440099f80c174291de7b1": {
          "model_module": "@jupyter-widgets/controls",
          "model_name": "HTMLModel",
          "model_module_version": "1.5.0",
          "state": {
            "_dom_classes": [],
            "_model_module": "@jupyter-widgets/controls",
            "_model_module_version": "1.5.0",
            "_model_name": "HTMLModel",
            "_view_count": null,
            "_view_module": "@jupyter-widgets/controls",
            "_view_module_version": "1.5.0",
            "_view_name": "HTMLView",
            "description": "",
            "description_tooltip": null,
            "layout": "IPY_MODEL_ce54666c603140b4913f0346240d9770",
            "placeholder": "​",
            "style": "IPY_MODEL_327b2db2510643779351a5db9b385f59",
            "value": "Downloading builder script: 100%"
          }
        },
        "bc4233a359fe431f930a96e094a14778": {
          "model_module": "@jupyter-widgets/controls",
          "model_name": "FloatProgressModel",
          "model_module_version": "1.5.0",
          "state": {
            "_dom_classes": [],
            "_model_module": "@jupyter-widgets/controls",
            "_model_module_version": "1.5.0",
            "_model_name": "FloatProgressModel",
            "_view_count": null,
            "_view_module": "@jupyter-widgets/controls",
            "_view_module_version": "1.5.0",
            "_view_name": "ProgressView",
            "bar_style": "success",
            "description": "",
            "description_tooltip": null,
            "layout": "IPY_MODEL_2c3b951e291f415dad45d4722d692411",
            "max": 6270,
            "min": 0,
            "orientation": "horizontal",
            "style": "IPY_MODEL_7fbf0673b808406b8dc6de4b89eafa9e",
            "value": 6270
          }
        },
        "44abe6e97d4f4bc6979cbfa472662ee9": {
          "model_module": "@jupyter-widgets/controls",
          "model_name": "HTMLModel",
          "model_module_version": "1.5.0",
          "state": {
            "_dom_classes": [],
            "_model_module": "@jupyter-widgets/controls",
            "_model_module_version": "1.5.0",
            "_model_name": "HTMLModel",
            "_view_count": null,
            "_view_module": "@jupyter-widgets/controls",
            "_view_module_version": "1.5.0",
            "_view_name": "HTMLView",
            "description": "",
            "description_tooltip": null,
            "layout": "IPY_MODEL_591fa3bcf594438e83700ddf4f4d1ba2",
            "placeholder": "​",
            "style": "IPY_MODEL_a55e2da262804fc5a80a066aa43b54f8",
            "value": " 6.27k/6.27k [00:00&lt;00:00, 305kB/s]"
          }
        },
        "2bf2f4db12374da08f9f26312d5ee4a3": {
          "model_module": "@jupyter-widgets/base",
          "model_name": "LayoutModel",
          "model_module_version": "1.2.0",
          "state": {
            "_model_module": "@jupyter-widgets/base",
            "_model_module_version": "1.2.0",
            "_model_name": "LayoutModel",
            "_view_count": null,
            "_view_module": "@jupyter-widgets/base",
            "_view_module_version": "1.2.0",
            "_view_name": "LayoutView",
            "align_content": null,
            "align_items": null,
            "align_self": null,
            "border": null,
            "bottom": null,
            "display": null,
            "flex": null,
            "flex_flow": null,
            "grid_area": null,
            "grid_auto_columns": null,
            "grid_auto_flow": null,
            "grid_auto_rows": null,
            "grid_column": null,
            "grid_gap": null,
            "grid_row": null,
            "grid_template_areas": null,
            "grid_template_columns": null,
            "grid_template_rows": null,
            "height": null,
            "justify_content": null,
            "justify_items": null,
            "left": null,
            "margin": null,
            "max_height": null,
            "max_width": null,
            "min_height": null,
            "min_width": null,
            "object_fit": null,
            "object_position": null,
            "order": null,
            "overflow": null,
            "overflow_x": null,
            "overflow_y": null,
            "padding": null,
            "right": null,
            "top": null,
            "visibility": null,
            "width": null
          }
        },
        "ce54666c603140b4913f0346240d9770": {
          "model_module": "@jupyter-widgets/base",
          "model_name": "LayoutModel",
          "model_module_version": "1.2.0",
          "state": {
            "_model_module": "@jupyter-widgets/base",
            "_model_module_version": "1.2.0",
            "_model_name": "LayoutModel",
            "_view_count": null,
            "_view_module": "@jupyter-widgets/base",
            "_view_module_version": "1.2.0",
            "_view_name": "LayoutView",
            "align_content": null,
            "align_items": null,
            "align_self": null,
            "border": null,
            "bottom": null,
            "display": null,
            "flex": null,
            "flex_flow": null,
            "grid_area": null,
            "grid_auto_columns": null,
            "grid_auto_flow": null,
            "grid_auto_rows": null,
            "grid_column": null,
            "grid_gap": null,
            "grid_row": null,
            "grid_template_areas": null,
            "grid_template_columns": null,
            "grid_template_rows": null,
            "height": null,
            "justify_content": null,
            "justify_items": null,
            "left": null,
            "margin": null,
            "max_height": null,
            "max_width": null,
            "min_height": null,
            "min_width": null,
            "object_fit": null,
            "object_position": null,
            "order": null,
            "overflow": null,
            "overflow_x": null,
            "overflow_y": null,
            "padding": null,
            "right": null,
            "top": null,
            "visibility": null,
            "width": null
          }
        },
        "327b2db2510643779351a5db9b385f59": {
          "model_module": "@jupyter-widgets/controls",
          "model_name": "DescriptionStyleModel",
          "model_module_version": "1.5.0",
          "state": {
            "_model_module": "@jupyter-widgets/controls",
            "_model_module_version": "1.5.0",
            "_model_name": "DescriptionStyleModel",
            "_view_count": null,
            "_view_module": "@jupyter-widgets/base",
            "_view_module_version": "1.2.0",
            "_view_name": "StyleView",
            "description_width": ""
          }
        },
        "2c3b951e291f415dad45d4722d692411": {
          "model_module": "@jupyter-widgets/base",
          "model_name": "LayoutModel",
          "model_module_version": "1.2.0",
          "state": {
            "_model_module": "@jupyter-widgets/base",
            "_model_module_version": "1.2.0",
            "_model_name": "LayoutModel",
            "_view_count": null,
            "_view_module": "@jupyter-widgets/base",
            "_view_module_version": "1.2.0",
            "_view_name": "LayoutView",
            "align_content": null,
            "align_items": null,
            "align_self": null,
            "border": null,
            "bottom": null,
            "display": null,
            "flex": null,
            "flex_flow": null,
            "grid_area": null,
            "grid_auto_columns": null,
            "grid_auto_flow": null,
            "grid_auto_rows": null,
            "grid_column": null,
            "grid_gap": null,
            "grid_row": null,
            "grid_template_areas": null,
            "grid_template_columns": null,
            "grid_template_rows": null,
            "height": null,
            "justify_content": null,
            "justify_items": null,
            "left": null,
            "margin": null,
            "max_height": null,
            "max_width": null,
            "min_height": null,
            "min_width": null,
            "object_fit": null,
            "object_position": null,
            "order": null,
            "overflow": null,
            "overflow_x": null,
            "overflow_y": null,
            "padding": null,
            "right": null,
            "top": null,
            "visibility": null,
            "width": null
          }
        },
        "7fbf0673b808406b8dc6de4b89eafa9e": {
          "model_module": "@jupyter-widgets/controls",
          "model_name": "ProgressStyleModel",
          "model_module_version": "1.5.0",
          "state": {
            "_model_module": "@jupyter-widgets/controls",
            "_model_module_version": "1.5.0",
            "_model_name": "ProgressStyleModel",
            "_view_count": null,
            "_view_module": "@jupyter-widgets/base",
            "_view_module_version": "1.2.0",
            "_view_name": "StyleView",
            "bar_color": null,
            "description_width": ""
          }
        },
        "591fa3bcf594438e83700ddf4f4d1ba2": {
          "model_module": "@jupyter-widgets/base",
          "model_name": "LayoutModel",
          "model_module_version": "1.2.0",
          "state": {
            "_model_module": "@jupyter-widgets/base",
            "_model_module_version": "1.2.0",
            "_model_name": "LayoutModel",
            "_view_count": null,
            "_view_module": "@jupyter-widgets/base",
            "_view_module_version": "1.2.0",
            "_view_name": "LayoutView",
            "align_content": null,
            "align_items": null,
            "align_self": null,
            "border": null,
            "bottom": null,
            "display": null,
            "flex": null,
            "flex_flow": null,
            "grid_area": null,
            "grid_auto_columns": null,
            "grid_auto_flow": null,
            "grid_auto_rows": null,
            "grid_column": null,
            "grid_gap": null,
            "grid_row": null,
            "grid_template_areas": null,
            "grid_template_columns": null,
            "grid_template_rows": null,
            "height": null,
            "justify_content": null,
            "justify_items": null,
            "left": null,
            "margin": null,
            "max_height": null,
            "max_width": null,
            "min_height": null,
            "min_width": null,
            "object_fit": null,
            "object_position": null,
            "order": null,
            "overflow": null,
            "overflow_x": null,
            "overflow_y": null,
            "padding": null,
            "right": null,
            "top": null,
            "visibility": null,
            "width": null
          }
        },
        "a55e2da262804fc5a80a066aa43b54f8": {
          "model_module": "@jupyter-widgets/controls",
          "model_name": "DescriptionStyleModel",
          "model_module_version": "1.5.0",
          "state": {
            "_model_module": "@jupyter-widgets/controls",
            "_model_module_version": "1.5.0",
            "_model_name": "DescriptionStyleModel",
            "_view_count": null,
            "_view_module": "@jupyter-widgets/base",
            "_view_module_version": "1.2.0",
            "_view_name": "StyleView",
            "description_width": ""
          }
        }
      }
    }
  },
  "nbformat": 4,
  "nbformat_minor": 0
}
